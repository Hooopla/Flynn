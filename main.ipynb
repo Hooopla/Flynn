{
 "cells": [
  {
   "cell_type": "code",
   "execution_count": 20,
   "id": "7d425435",
   "metadata": {},
   "outputs": [],
   "source": [
    "from dotenv import load_dotenv\n",
    "from openai import OpenAI\n",
    "import json\n",
    "import os\n",
    "import requests\n",
    "from pypdf import PdfReader\n",
    "import gradio as gr"
   ]
  },
  {
   "cell_type": "code",
   "execution_count": 21,
   "id": "dd83b6cb",
   "metadata": {},
   "outputs": [],
   "source": [
    "load_dotenv(override=True)\n",
    "openai = OpenAI()"
   ]
  },
  {
   "cell_type": "code",
   "execution_count": 22,
   "id": "c4995c72",
   "metadata": {},
   "outputs": [
    {
     "name": "stdout",
     "output_type": "stream",
     "text": [
      "Pushover user found and starts with u\n",
      "Pushover token found and starts with a\n"
     ]
    }
   ],
   "source": [
    "# For pushover \n",
    "\n",
    "pushover_user = os.getenv(\"PUSHOVER_USER\")\n",
    "pushover_token = os.getenv(\"PUSHOVER_TOKEN\")\n",
    "pushover_url = \"https://api.pushover.net/1/messages.json\"\n",
    "\n",
    "if pushover_user:\n",
    "  print(f\"Pushover user found and starts with {pushover_user[0]}\")\n",
    "else:\n",
    "  print(\"Pushover user not found\")\n",
    "\n",
    "if pushover_token:\n",
    "  print(f\"Pushover token found and starts with {pushover_token[0]}\")\n",
    "else:\n",
    "  print(\"Pushover token not found\")"
   ]
  },
  {
   "cell_type": "code",
   "execution_count": 23,
   "id": "a642c21e",
   "metadata": {},
   "outputs": [],
   "source": [
    "def push(message):\n",
    "    print(f\"Push: {message}\")\n",
    "    payload = {\"user\": pushover_user, \"token\": pushover_token, \"message\": message}\n",
    "    requests.post(pushover_url, data=payload)"
   ]
  },
  {
   "cell_type": "code",
   "execution_count": 24,
   "id": "755c1481",
   "metadata": {},
   "outputs": [
    {
     "name": "stdout",
     "output_type": "stream",
     "text": [
      "Push: hey\n"
     ]
    }
   ],
   "source": [
    "push(\"hey\")"
   ]
  },
  {
   "cell_type": "code",
   "execution_count": 25,
   "id": "6cf24536",
   "metadata": {},
   "outputs": [],
   "source": [
    "# Used for when user wants to give their contact information\n",
    "def record_user_details(email, name=\"Name not provided\", notes=\"Not provided\"):\n",
    "  push(f\"Recording interest from {name} with email and notes {notes} :3\")\n",
    "  return {\"recorded\": \"ok\"}"
   ]
  },
  {
   "cell_type": "code",
   "execution_count": 26,
   "id": "e3b0942b",
   "metadata": {},
   "outputs": [],
   "source": [
    "# Used to debug and help with adding information for when Flynn can't answer the question\n",
    "def record_unknown_question(question):\n",
    "  push(f\"Recording: {question} | Wasn't able to answer question \")\n",
    "  return {\"recorded\": \"ok\"}"
   ]
  },
  {
   "cell_type": "code",
   "execution_count": 27,
   "id": "bc93b902",
   "metadata": {},
   "outputs": [],
   "source": [
    "record_user_details_json = {\n",
    "  \"name\": \"record_user_details\",\n",
    "  \"description\": \"Use this tool to record that a user is interested in being in touch and provided an email address\",\n",
    "  \"parameters\": {\n",
    "    \"type\": \"object\",\n",
    "    \"properties\": {\n",
    "      \"email\": {\n",
    "        \"type\": \"string\",\n",
    "        \"description\": \"The email address of this user\"\n",
    "      },\n",
    "      \"name\": {\n",
    "        \"type\": \"string\",\n",
    "        \"description\": \"The user's name, if they provided it\"\n",
    "      },\n",
    "      \"notes\": {\n",
    "        \"type\": \"string\",\n",
    "        \"description\": \"Any additional information about the conversation that's worth recording\"\n",
    "      }\n",
    "    },\n",
    "    \"required\": [\"email\"],\n",
    "    \"additionalProperties\": False\n",
    "  }\n",
    "}"
   ]
  },
  {
   "cell_type": "code",
   "execution_count": 28,
   "id": "1f881052",
   "metadata": {},
   "outputs": [],
   "source": [
    "record_unknown_question_json = {\n",
    "  \"name\": \"record_unknown_question\",\n",
    "  \"description\": \"Always use this tool to record any question that couldn't be answered as you didn't know the answer\",\n",
    "  \"parameters\": {\n",
    "    \"type\": \"object\",\n",
    "    \"properties\": {\n",
    "      \"question\": {\n",
    "        \"type\": \"string\",\n",
    "        \"description\": \"The question that couldn't be answered\"\n",
    "      },\n",
    "    },\n",
    "    \"required\": {\"question\"},\n",
    "    \"additionalProperties\": False\n",
    "  }\n",
    "}"
   ]
  },
  {
   "cell_type": "code",
   "execution_count": 29,
   "id": "9fe05cd4",
   "metadata": {},
   "outputs": [],
   "source": [
    "tools = [{\"type\": \"function\", \"function\": record_user_details_json},\n",
    "        {\"type\": \"function\", \"function\": record_unknown_question_json}]"
   ]
  },
  {
   "cell_type": "code",
   "execution_count": 30,
   "id": "1380ff04",
   "metadata": {},
   "outputs": [
    {
     "data": {
      "text/plain": [
       "[{'type': 'function',\n",
       "  'function': {'name': 'record_user_details',\n",
       "   'description': 'Use this tool to record that a user is interested in being in touch and provided an email address',\n",
       "   'parameters': {'type': 'object',\n",
       "    'properties': {'email': {'type': 'string',\n",
       "      'description': 'The email address of this user'},\n",
       "     'name': {'type': 'string',\n",
       "      'description': \"The user's name, if they provided it\"},\n",
       "     'notes': {'type': 'string',\n",
       "      'description': \"Any additional information about the conversation that's worth recording\"}},\n",
       "    'required': ['email'],\n",
       "    'additionalProperties': False}}},\n",
       " {'type': 'function',\n",
       "  'function': {'name': 'record_unknown_question',\n",
       "   'description': \"Always use this tool to record any question that couldn't be answered as you didn't know the answer\",\n",
       "   'parameters': {'type': 'object',\n",
       "    'properties': {'question': {'type': 'string',\n",
       "      'description': \"The question that couldn't be answered\"}},\n",
       "    'required': {'question'},\n",
       "    'additionalProperties': False}}}]"
      ]
     },
     "execution_count": 30,
     "metadata": {},
     "output_type": "execute_result"
    }
   ],
   "source": [
    "tools"
   ]
  },
  {
   "cell_type": "code",
   "execution_count": 31,
   "id": "2e57d7c9",
   "metadata": {},
   "outputs": [],
   "source": [
    "def handle_tool_calls(tool_calls):\n",
    "  results = []\n",
    "  for tool_call in tool_calls:\n",
    "      tool_name = tool_call.function.name\n",
    "      arguments = json.loads(tool_call.function.arguments)\n",
    "      print(f\"Tool called: {tool_name}\", flush=True)\n",
    "\n",
    "      # THE BIG IF STATEMENT!!!\n",
    "\n",
    "      if tool_name == \"record_user_details\":\n",
    "          result = record_user_details(**arguments)\n",
    "      elif tool_name == \"record_unknown_question\":\n",
    "          result = record_unknown_question(**arguments)\n",
    "\n",
    "      results.append({\"role\": \"tool\",\"content\": json.dumps(result),\"tool_call_id\": tool_call.id})\n",
    "  return results"
   ]
  },
  {
   "cell_type": "code",
   "execution_count": 32,
   "id": "6028e6ff",
   "metadata": {},
   "outputs": [
    {
     "name": "stdout",
     "output_type": "stream",
     "text": [
      "Push: Recording: this is a really hard question | Wasn't able to answer question \n"
     ]
    },
    {
     "data": {
      "text/plain": [
       "{'recorded': 'ok'}"
      ]
     },
     "execution_count": 32,
     "metadata": {},
     "output_type": "execute_result"
    }
   ],
   "source": [
    "globals()[\"record_unknown_question\"](\"this is a really hard question\")"
   ]
  },
  {
   "cell_type": "code",
   "execution_count": 33,
   "id": "4fe9497d",
   "metadata": {},
   "outputs": [],
   "source": [
    "def handle_tool_calls(tool_calls):\n",
    "  results = []\n",
    "  for tool_call in tool_calls:\n",
    "      tool_name = tool_call.function.name\n",
    "      arguments = json.loads(tool_call.function.arguments)\n",
    "      print(f\"Tool called: {tool_name}\", flush=True)\n",
    "      tool = globals().get(tool_name)\n",
    "      result = tool(**arguments) if tool else {}\n",
    "      results.append({\"role\": \"tool\",\"content\": json.dumps(result),\"tool_call_id\": tool_call.id})\n",
    "  return results"
   ]
  },
  {
   "cell_type": "code",
   "execution_count": 34,
   "id": "e1e00e4c",
   "metadata": {},
   "outputs": [],
   "source": [
    "reader = PdfReader(\"assets/linkedin.pdf\")\n",
    "linkedin = \"\"\n",
    "for page in reader.pages:\n",
    "  text = page.extract_text()\n",
    "  if text:\n",
    "    linkedin += text \n",
    "\n",
    "with open(\"assets/summary.txt\", \"r\", encoding=\"utf-8\") as f:\n",
    "  summary = f.read()\n",
    "\n",
    "with open(\"assets/projects.txt\", \"r\", encoding=\"utf-8\") as f:\n",
    "  projects = f.read()\n",
    "\n",
    "name = \"Gabriel\"\n",
    "ai_Name = \"Flynn\""
   ]
  },
  {
   "cell_type": "code",
   "execution_count": 35,
   "id": "fe8ac62f",
   "metadata": {},
   "outputs": [],
   "source": [
    "system_prompt = f\"You are acting as {ai_Name}, You are answering questions on {name}'s website, \\\n",
    "particularly questions related to {name}'s career, background, skills and experience. \\\n",
    "You are responsibility is to represent {name} for interactions on the website as faithfully as possible. \\\n",
    "You are given a summary of {name}'s background and LinkedIn profile as well as projects from Github which you can use to answer questions. \\\n",
    "Be professional and engaging, as if talking to a potential client or future employer who came across the website. \\\n",
    "If you don't know how to answer to any question, use your record_unknown_question tool to record the questions that you couldn't answer. \\\n",
    "If the user is engaging in discussion, try to steer them towards getting in touch via email; ask for their email and record it using your record_user_details\"\n",
    "\n",
    "system_prompt += f\"\\n\\n##Summary: \\n {summary}\\n\\n##LinkedIn Profile:\\n{linkedin}\\n\\n##Projects:\\n{projects}\"\n",
    "system_prompt += f\"With this contact, please chat with the suer, always staying in character.\""
   ]
  },
  {
   "cell_type": "code",
   "execution_count": 36,
   "id": "a23f427e",
   "metadata": {},
   "outputs": [
    {
     "data": {
      "text/plain": [
       "\"You are acting as Flynn, You are answering questions on Gabriel's website, particularly questions related to Gabriel's career, background, skills and experience. You are responsibility is to represent Gabriel for interactions on the website as faithfully as possible. You are given a summary of Gabriel's background and LinkedIn profile as well as projects from Github which you can use to answer questions. Be professional and engaging, as if talking to a potential client or future employer who came across the website. If you don't know how to answer to any question, use your record_unknown_question tool to record the questions that you couldn't answer. If the user is engaging in discussion, try to steer them towards getting in touch via email; ask for their email and record it using your record_user_details\\n\\n##Summary: \\n Hi! My name’s Gabriel Bello, and I’m currently studying Computer Systems at Simon Fraser University. I first got into Front-End Development through my CMPT 225 project, Dish It, which really sparked my passion for building things. Lately, I’ve also developed a huge interest in A.I & Machine Learning, and I’m excited to keep exploring that field!\\n\\nI’m a big fan of all kinds of food, and I’d definitely call myself a project person whether it’s cars, hardware, or software, I love staying busy and learning new things. In my spare time, I enjoy hanging out with my partner and friends, whether we’re window shopping, gaming, watching movies, or catching a Vancouver Canucks game (the SportsBar at Rogers Arena is definitely my go-to spot!).\\n\\n##LinkedIn Profile:\\n\\xa0 \\xa0\\nContact\\njohngabrielbello@gmail.com\\nwww.linkedin.com/in/\\njohngabrielbello (LinkedIn)\\nTop Skills\\nWeb Development\\nTransmission Control Protocol (TCP)\\nReact.js\\nGabriel Bello\\nHardware Technician at BC Tech For Learning Society\\nBurnaby, British Columbia, Canada\\nSummary\\nHi I'm Gab, a Computer Science student at the Simon Fraser\\nUniversity.\\nI enjoy everything I put my time into which includes but not limited to:\\nplaying soccer, competing in professional E-Sports events, skating,\\noutdoors activities, and of course, software development!\\nI am currently interning as a Hardware Technician @ BC-Tech For\\nLearning while putting time aside to learn AI Machine Learning as I\\nhave found an interest in this topic as of recent :D\\nExperience\\nBC Technology for Learning Society\\nHardware Technician\\nSeptember 2025\\xa0-\\xa0Present\\xa0(2 months)\\nBurnaby, British Columbia, Canada\\n- Troubleshot, repaired, and tested over 200 donated devices monthly,\\nachieving a 98% functionality rate.\\n- Managed the refurbishment and quality control process for 150+ outgoing\\ncomputers, ensuring 100% compliance with quality standards.\\n- Refurbished and cleaned 100+ computers, laptops, printers, servers, and\\nLCDs weekly, ensuring optimal\\nfunctionality and extending device lifespan.\\nIndigo\\nOperations\\nMay 2022\\xa0-\\xa0Present\\xa0(3 years 6 months)\\nBurnaby, British Columbia, Canada\\n- Conduct inventory cycle counts, replenish stock, manage product returns,\\nand process incoming store orders, ensuring accurate inventory levels and\\nefficient handling of over 2,500+ units per week.\\n\\xa0 Page 1 of 2\\xa0 \\xa0\\n- Assist with on-boarding and training employees on internal IT systems,\\nensuring smooth adoption of digital tools and compliance with company\\nprocedures\\nTwitch\\nSocial Media Manager\\nJanuary 2021\\xa0-\\xa0April 2022\\xa0(1 year 4 months)\\nBurnaby, British Columbia, Canada\\n- Reviewed and analyzed data to enhance channel traction, achieving\\nengagement increases ranging from 86% to 267% by collecting data samples\\nfrom different days, analyzing viewership algorithms, and tracking trends using\\ndetailed notes and spreadsheets to optimize content and increase audience\\nengagement.\\n- Facilitated collaboration between different media brands, companies, and\\nchannels, and supported the process of securing sponsorship and organizing\\nevents.\\n- Conducted one-on-one meetings with 20+ clients to address concerns and\\nprovide personalized support.\\nPlaces Des Arts\\nIT Systems Administrator\\nMay 2019\\xa0-\\xa0July 2021\\xa0(2 years 3 months)\\nCoquitlam, British Columbia, Canada\\n- Managed and maintained IT systems, including user accounts, software\\nupdates, and troubleshooting\\nhardware/software issues to ensure seamless operations.\\n- Ensured data integrity and accuracy by conducting data-entry of client\\nrecords and cross-reference with attendance logs.\\nEducation\\nSimon Fraser University\\n\\xa0·\\xa0(2020\\xa0-\\xa02025)\\nBurnaby South Secondary School\\nHigh School Diploma\\xa0\\xa0·\\xa0(September 2015\\xa0-\\xa0June 2020)\\n\\xa0 Page 2 of 2\\n\\n##Projects:\\nProject Title: Land-Grab\\nProject Link: https://github.com/Hooopla/Land-Grab\\nDescription: Land Grab is a grid based game where a total of 3 players will have to beat one another by claiming the largest region with the most cells. Each game, the gameboard is randomized and divided into three distinct regions, each with a different amount of cells. Once the round starts, players must rush to choose a region to claim. Once a region is claimed, it becomes locked, which then prevents other players from selecting it. When everyone has made their selection the game will then choose the winner by selecting the player with the largest region. If one or more players do not choose a region in time, the round will reset with no winner!\\n\\nProject Title: Dish-It\\nProject Link: https://github.com/CMPT-276-FALL-2024/Dish-It\\nDescription: It is a website platform that helps users save time, make healthier eating choices, and explore wide varieties of cuisines effortlessly.\\n\\nProject Title: Hooopi-Foods \\nProject Link: https://github.com/Hooopla/Hooopi-Foods\\nDescription: Just a fake website that conceptualizes a potential food delivery comapny!\\n\\nProject Title: SFU Course Data Analyzer\\nProject Link: https://github.com/Hooopla/SFU-Course-Data-Analyzer\\nDescription: This just analyzes the part course offerings of SFU's many different departmentsWith this contact, please chat with the suer, always staying in character.\""
      ]
     },
     "execution_count": 36,
     "metadata": {},
     "output_type": "execute_result"
    }
   ],
   "source": [
    "system_prompt"
   ]
  },
  {
   "cell_type": "code",
   "execution_count": null,
   "id": "04bad7a7",
   "metadata": {},
   "outputs": [],
   "source": [
    "def chat(message, history):\n",
    "  messages = [{\"role\": \"system\", \"context\": system_prompt}] + history + [{\"role\": \"user\", \"context\": message}]\n",
    "  done = False\n",
    "  while not done:\n",
    "    response = openai.chat.completions.create(model=\"gpt-4o-mini\", messages=messages, tools=tools)\n",
    "\n",
    "    finish_reason = response.choices[0].finish_reason\n",
    "\n",
    "    if finish_reason==\"tool_calls\":\n",
    "      message = response.choices[0].message\n",
    "      tool_calls = message\n",
    "      results = handle_tool_calls(message.tool_calls)\n",
    "      messages.append(message)\n",
    "      messages.extend(results)\n",
    "    else:\n",
    "      done = True\n",
    "  return response.choices[0].message.content"
   ]
  },
  {
   "cell_type": "code",
   "execution_count": 38,
   "id": "c595876f",
   "metadata": {},
   "outputs": [
    {
     "name": "stdout",
     "output_type": "stream",
     "text": [
      "* Running on local URL:  http://127.0.0.1:7862\n",
      "* To create a public link, set `share=True` in `launch()`.\n"
     ]
    },
    {
     "data": {
      "text/html": [
       "<div><iframe src=\"http://127.0.0.1:7862/\" width=\"100%\" height=\"500\" allow=\"autoplay; camera; microphone; clipboard-read; clipboard-write;\" frameborder=\"0\" allowfullscreen></iframe></div>"
      ],
      "text/plain": [
       "<IPython.core.display.HTML object>"
      ]
     },
     "metadata": {},
     "output_type": "display_data"
    },
    {
     "data": {
      "text/plain": []
     },
     "execution_count": 38,
     "metadata": {},
     "output_type": "execute_result"
    },
    {
     "name": "stderr",
     "output_type": "stream",
     "text": [
      "Traceback (most recent call last):\n",
      "  File \"c:\\Users\\johng\\Documents\\Flynn\\.venv\\Lib\\site-packages\\gradio\\queueing.py\", line 759, in process_events\n",
      "    response = await route_utils.call_process_api(\n",
      "               ^^^^^^^^^^^^^^^^^^^^^^^^^^^^^^^^^^^\n",
      "  File \"c:\\Users\\johng\\Documents\\Flynn\\.venv\\Lib\\site-packages\\gradio\\route_utils.py\", line 354, in call_process_api\n",
      "    output = await app.get_blocks().process_api(\n",
      "             ^^^^^^^^^^^^^^^^^^^^^^^^^^^^^^^^^^^\n",
      "  File \"c:\\Users\\johng\\Documents\\Flynn\\.venv\\Lib\\site-packages\\gradio\\blocks.py\", line 2116, in process_api\n",
      "    result = await self.call_function(\n",
      "             ^^^^^^^^^^^^^^^^^^^^^^^^^\n",
      "  File \"c:\\Users\\johng\\Documents\\Flynn\\.venv\\Lib\\site-packages\\gradio\\blocks.py\", line 1621, in call_function\n",
      "    prediction = await fn(*processed_input)\n",
      "                 ^^^^^^^^^^^^^^^^^^^^^^^^^^\n",
      "  File \"c:\\Users\\johng\\Documents\\Flynn\\.venv\\Lib\\site-packages\\gradio\\utils.py\", line 882, in async_wrapper\n",
      "    response = await f(*args, **kwargs)\n",
      "               ^^^^^^^^^^^^^^^^^^^^^^^^\n",
      "  File \"c:\\Users\\johng\\Documents\\Flynn\\.venv\\Lib\\site-packages\\gradio\\chat_interface.py\", line 553, in __wrapper\n",
      "    return await submit_fn(*args, **kwargs)\n",
      "           ^^^^^^^^^^^^^^^^^^^^^^^^^^^^^^^^\n",
      "  File \"c:\\Users\\johng\\Documents\\Flynn\\.venv\\Lib\\site-packages\\gradio\\chat_interface.py\", line 943, in _submit_fn\n",
      "    response = await anyio.to_thread.run_sync(\n",
      "               ^^^^^^^^^^^^^^^^^^^^^^^^^^^^^^^\n",
      "  File \"c:\\Users\\johng\\Documents\\Flynn\\.venv\\Lib\\site-packages\\anyio\\to_thread.py\", line 56, in run_sync\n",
      "    return await get_async_backend().run_sync_in_worker_thread(\n",
      "           ^^^^^^^^^^^^^^^^^^^^^^^^^^^^^^^^^^^^^^^^^^^^^^^^^^^^\n",
      "  File \"c:\\Users\\johng\\Documents\\Flynn\\.venv\\Lib\\site-packages\\anyio\\_backends\\_asyncio.py\", line 2485, in run_sync_in_worker_thread\n",
      "    return await future\n",
      "           ^^^^^^^^^^^^\n",
      "  File \"c:\\Users\\johng\\Documents\\Flynn\\.venv\\Lib\\site-packages\\anyio\\_backends\\_asyncio.py\", line 976, in run\n",
      "    result = context.run(func, *args)\n",
      "             ^^^^^^^^^^^^^^^^^^^^^^^^\n",
      "  File \"C:\\Users\\johng\\AppData\\Local\\Temp\\ipykernel_25488\\250148637.py\", line 5, in chat\n",
      "    response = openai.chat.completions.create(model=\"gpt-4o-mini\", messages=messages, tools=tools)\n",
      "               ^^^^^^^^^^^^^^^^^^^^^^^^^^^^^^^^^^^^^^^^^^^^^^^^^^^^^^^^^^^^^^^^^^^^^^^^^^^^^^^^^^^\n",
      "  File \"c:\\Users\\johng\\Documents\\Flynn\\.venv\\Lib\\site-packages\\openai\\_utils\\_utils.py\", line 286, in wrapper\n",
      "    return func(*args, **kwargs)\n",
      "           ^^^^^^^^^^^^^^^^^^^^^\n",
      "  File \"c:\\Users\\johng\\Documents\\Flynn\\.venv\\Lib\\site-packages\\openai\\resources\\chat\\completions\\completions.py\", line 1156, in create\n",
      "    return self._post(\n",
      "           ^^^^^^^^^^^\n",
      "  File \"c:\\Users\\johng\\Documents\\Flynn\\.venv\\Lib\\site-packages\\openai\\_base_client.py\", line 1259, in post\n",
      "    return cast(ResponseT, self.request(cast_to, opts, stream=stream, stream_cls=stream_cls))\n",
      "                           ^^^^^^^^^^^^^^^^^^^^^^^^^^^^^^^^^^^^^^^^^^^^^^^^^^^^^^^^^^^^^^^^^\n",
      "  File \"c:\\Users\\johng\\Documents\\Flynn\\.venv\\Lib\\site-packages\\openai\\_base_client.py\", line 968, in request\n",
      "    request = self._build_request(options, retries_taken=retries_taken)\n",
      "              ^^^^^^^^^^^^^^^^^^^^^^^^^^^^^^^^^^^^^^^^^^^^^^^^^^^^^^^^^\n",
      "  File \"c:\\Users\\johng\\Documents\\Flynn\\.venv\\Lib\\site-packages\\openai\\_base_client.py\", line 547, in _build_request\n",
      "    return self._client.build_request(  # pyright: ignore[reportUnknownMemberType]\n",
      "           ^^^^^^^^^^^^^^^^^^^^^^^^^^^^^^^^^^^^^^^^^^^^^^^^^^^^^^^^^^^^^^^^^^^^^^^\n",
      "  File \"c:\\Users\\johng\\Documents\\Flynn\\.venv\\Lib\\site-packages\\httpx\\_client.py\", line 378, in build_request\n",
      "    return Request(\n",
      "           ^^^^^^^^\n",
      "  File \"c:\\Users\\johng\\Documents\\Flynn\\.venv\\Lib\\site-packages\\httpx\\_models.py\", line 408, in __init__\n",
      "    headers, stream = encode_request(\n",
      "                      ^^^^^^^^^^^^^^^\n",
      "  File \"c:\\Users\\johng\\Documents\\Flynn\\.venv\\Lib\\site-packages\\httpx\\_content.py\", line 216, in encode_request\n",
      "    return encode_json(json)\n",
      "           ^^^^^^^^^^^^^^^^^\n",
      "  File \"c:\\Users\\johng\\Documents\\Flynn\\.venv\\Lib\\site-packages\\httpx\\_content.py\", line 177, in encode_json\n",
      "    body = json_dumps(\n",
      "           ^^^^^^^^^^^\n",
      "  File \"C:\\Python312\\Lib\\json\\__init__.py\", line 238, in dumps\n",
      "    **kw).encode(obj)\n",
      "          ^^^^^^^^^^^\n",
      "  File \"C:\\Python312\\Lib\\json\\encoder.py\", line 200, in encode\n",
      "    chunks = self.iterencode(o, _one_shot=True)\n",
      "             ^^^^^^^^^^^^^^^^^^^^^^^^^^^^^^^^^^\n",
      "  File \"C:\\Python312\\Lib\\json\\encoder.py\", line 258, in iterencode\n",
      "    return _iterencode(o, 0)\n",
      "           ^^^^^^^^^^^^^^^^^\n",
      "  File \"C:\\Python312\\Lib\\json\\encoder.py\", line 180, in default\n",
      "    raise TypeError(f'Object of type {o.__class__.__name__} '\n",
      "TypeError: Object of type set is not JSON serializable\n"
     ]
    }
   ],
   "source": [
    "gr.ChatInterface(chat, type=\"messages\").launch()"
   ]
  }
 ],
 "metadata": {
  "kernelspec": {
   "display_name": ".venv",
   "language": "python",
   "name": "python3"
  },
  "language_info": {
   "codemirror_mode": {
    "name": "ipython",
    "version": 3
   },
   "file_extension": ".py",
   "mimetype": "text/x-python",
   "name": "python",
   "nbconvert_exporter": "python",
   "pygments_lexer": "ipython3",
   "version": "3.12.6"
  }
 },
 "nbformat": 4,
 "nbformat_minor": 5
}
