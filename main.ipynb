{
 "cells": [
  {
   "cell_type": "code",
   "execution_count": 19,
   "id": "7d425435",
   "metadata": {},
   "outputs": [],
   "source": [
    "from dotenv import load_dotenv\n",
    "from openai import OpenAI\n",
    "import json\n",
    "import os\n",
    "import requests \n",
    "from PyPDF2 import PdfReader\n",
    "import gradio as gr"
   ]
  },
  {
   "cell_type": "code",
   "execution_count": 20,
   "id": "dd83b6cb",
   "metadata": {},
   "outputs": [],
   "source": [
    "load_dotenv(override=True)\n",
    "openai = OpenAI()"
   ]
  },
  {
   "cell_type": "code",
   "execution_count": 38,
   "id": "c4995c72",
   "metadata": {},
   "outputs": [
    {
     "name": "stdout",
     "output_type": "stream",
     "text": [
      "Pushover user not found and starts with u\n",
      "Pushover token found and starts with a\n",
      "OpenAI API Key exist and begins sk-proj-\n"
     ]
    }
   ],
   "source": [
    "# For pushover \n",
    "\n",
    "pushover_user = os.getenv(\"PUSHOVER_USER\")\n",
    "if pushover_user:\n",
    "  print(f\"Pushover user not found and starts with {pushover_user[0]}\")\n",
    "else:\n",
    "  print(\"Pushover user not found\")\n",
    "\n",
    "pushover_token = os.getenv(\"PUSHOVER_TOKEN\")\n",
    "if pushover_token:\n",
    "  print(f\"Pushover token found and starts with {pushover_token[0]}\")\n",
    "else:\n",
    "  print(\"Pushover token not found\")\n",
    "pushover_url = \"https://api.pushover.net/1/messages.json\"\n",
    "\n",
    "openai_api_key = os.getenv(\"OPENAI_API_KEY\")\n",
    "if openai_api_key:\n",
    "  print(f\"OpenAI API Key exist and begins {openai_api_key[:8]}\")\n",
    "else:\n",
    "  print(\"Open API Key not set\")"
   ]
  },
  {
   "cell_type": "code",
   "execution_count": 22,
   "id": "a642c21e",
   "metadata": {},
   "outputs": [],
   "source": [
    "def push(message):\n",
    "  print(f\"push: {message}\")\n",
    "  payload = {\"user\": pushover_user, \"token\": pushover_token, \"message\": message}\n",
    "  requests.post(pushover_url, data=payload)"
   ]
  },
  {
   "cell_type": "code",
   "execution_count": 23,
   "id": "755c1481",
   "metadata": {},
   "outputs": [
    {
     "name": "stdout",
     "output_type": "stream",
     "text": [
      "push: hey\n"
     ]
    }
   ],
   "source": [
    "push(\"hey\")"
   ]
  },
  {
   "cell_type": "code",
   "execution_count": 24,
   "id": "6cf24536",
   "metadata": {},
   "outputs": [],
   "source": [
    "# Used for when user wants to give their contact information\n",
    "def record_user_details(email, name=\"Name not provided\", notes=\"Not provided\"):\n",
    "  push(f\"Recording interest from {name} with email and notes {notes} :3\")\n",
    "  return {\"recorded\": \"okay\"}"
   ]
  },
  {
   "cell_type": "code",
   "execution_count": 25,
   "id": "e3b0942b",
   "metadata": {},
   "outputs": [],
   "source": [
    "# Used to debug and help with adding information for when Flynn can't answer the question\n",
    "def record_unknown_question(question):\n",
    "  push(f\"Recording: {question} | Wasn't able to answer question \")\n",
    "  return {\"recorded\": \"ok\"}"
   ]
  },
  {
   "cell_type": "code",
   "execution_count": 26,
   "id": "bc93b902",
   "metadata": {},
   "outputs": [],
   "source": [
    "record_user_details_json = {\n",
    "  \"name\": \"record_user_details\",\n",
    "  \"description\": \"Use this tool to record that a user is interested in being in touch and provided an email address\",\n",
    "  \"parameters\": {\n",
    "    \"type\": \"object\",\n",
    "    \"properties\": {\n",
    "      \"email\": {\n",
    "        \"type\": \"string\",\n",
    "        \"description\": \"The email address of this user\"\n",
    "      },\n",
    "      \"name\": {\n",
    "        \"type\": \"string\",\n",
    "        \"description\": \"The user's name, if they provided it\"\n",
    "      },\n",
    "      \"notes\": {\n",
    "        \"type\": \"string\",\n",
    "        \"description\": \"Any additional information about the conversation that's worth recording\"\n",
    "      }\n",
    "    },\n",
    "    \"required\": [\"email\"],\n",
    "    \"additionalProperties\": False\n",
    "  }\n",
    "\n",
    "}"
   ]
  },
  {
   "cell_type": "code",
   "execution_count": 27,
   "id": "1f881052",
   "metadata": {},
   "outputs": [],
   "source": [
    "record_unknown_question_json = {\n",
    "  \"name\": \"record_unknown_question\",\n",
    "  \"description\": \"Always use this tool to record any question that couldn't be answered as you didn't know the answer\",\n",
    "  \"parameters\": {\n",
    "    \"type\": \"object\",\n",
    "    \"properties\": {\n",
    "      \"question\": {\n",
    "        \"type\": \"string\",\n",
    "        \"description\": \"The question that couldn't be answered\"\n",
    "      },\n",
    "    },\n",
    "    \"required\": {\"question\"},\n",
    "    \"additionalProperties\": False\n",
    "  }\n",
    "}"
   ]
  },
  {
   "cell_type": "code",
   "execution_count": null,
   "id": "9fe05cd4",
   "metadata": {},
   "outputs": [],
   "source": [
    "tools = [{\"type\": \"function\", \"function\": record_user_details_json},\n",
    "{\"type\": \"function\", \"function\": record_unknown_question_json}]"
   ]
  },
  {
   "cell_type": "code",
   "execution_count": 29,
   "id": "1380ff04",
   "metadata": {},
   "outputs": [
    {
     "data": {
      "text/plain": [
       "[{'type': 'function',\n",
       "  'function': {'name': 'record_user_details',\n",
       "   'description': 'Use this tool to record that a user is interested in being in touch and provided an email address',\n",
       "   'parameters': {'type': 'object',\n",
       "    'properties': {'email': {'type': 'string',\n",
       "      'description': 'The email address of this user'},\n",
       "     'name': {'type': 'string',\n",
       "      'description': \"The user's name, if they provided it\"},\n",
       "     'notes': {'type': 'string',\n",
       "      'description': \"Any additional information about the conversation that's worth recording\"}},\n",
       "    'required': ['email'],\n",
       "    'additionalProperties': False}}},\n",
       " {'type': 'function',\n",
       "  'function': {'name': 'record_unknown_question',\n",
       "   'description': \"Always use this tool to record any question that couldn't be answered as you didn't know the answer\",\n",
       "   'parameters': {'type': 'object',\n",
       "    'properties': {'question': {'type': 'string',\n",
       "      'description': \"The question that couldn't be answered\"}},\n",
       "    'required': {'question'},\n",
       "    'additionalProperties': False}}}]"
      ]
     },
     "execution_count": 29,
     "metadata": {},
     "output_type": "execute_result"
    }
   ],
   "source": [
    "tools"
   ]
  },
  {
   "cell_type": "code",
   "execution_count": 30,
   "id": "2e57d7c9",
   "metadata": {},
   "outputs": [],
   "source": [
    "def handle_tool_calls(tool_calls):\n",
    "  results = []\n",
    "  for tool_call in tool_calls:\n",
    "    tool_name = tool_call.function.name\n",
    "    arguments = json.loads(tool.cool.function.arguments)\n",
    "    print(f\"Tool called: {tool_name}\", flush=True)\n",
    "\n",
    "    if tool_name == \"record_user_details\":\n",
    "      result = record_user_details(**arguments)\n",
    "    elif tool_name == \"record_unknown_question\":\n",
    "      result = record_unknown_question(**arguments)\n",
    "\n",
    "    results.append({\"role\": \"tool\", \"content\": json.dumps(result), \"tool_call_id\": tool_call.id})\n",
    "  return results"
   ]
  },
  {
   "cell_type": "code",
   "execution_count": 31,
   "id": "6028e6ff",
   "metadata": {},
   "outputs": [
    {
     "name": "stdout",
     "output_type": "stream",
     "text": [
      "push: Recording: A very hard question | Wasn't able to answer question \n"
     ]
    },
    {
     "data": {
      "text/plain": [
       "{'recorded': 'ok'}"
      ]
     },
     "execution_count": 31,
     "metadata": {},
     "output_type": "execute_result"
    }
   ],
   "source": [
    "globals()[\"record_unknown_question\"](\"A very hard question\")"
   ]
  },
  {
   "cell_type": "code",
   "execution_count": 32,
   "id": "4fe9497d",
   "metadata": {},
   "outputs": [],
   "source": [
    "def handle_tool_calls(tool_calls):\n",
    "  results = []\n",
    "  for tool_call in tool_calls:\n",
    "    tool_name = tool_call.function.name\n",
    "    arguments = json.loads(tool.cool.function.arguments)\n",
    "    print(f\"Tool called: {tool_name}\", flush=True)\n",
    "    tool = globals().get(tool_name)\n",
    "    result = tool(**arguments) if tool else{}\n",
    "    results.append({\"role\": \"tool\", \"content\": json.dumps(result), \"tool_call_id\": tool_call.id})\n",
    "  return results"
   ]
  },
  {
   "cell_type": "code",
   "execution_count": 33,
   "id": "e1e00e4c",
   "metadata": {},
   "outputs": [],
   "source": [
    "reader = PdfReader(\"assets/linkedin.pdf\")\n",
    "linkedin = \"\"\n",
    "for page in reader.pages:\n",
    "  text = page.extract_text()\n",
    "  if text:\n",
    "    linkedin += text \n",
    "\n",
    "with open(\"assets/summary.txt\", \"r\", encoding=\"utf-8\") as f:\n",
    "  summary = f.read()\n",
    "\n",
    "with open (\"assets/projects.txt\", \"r\", encoding=\"utf-8\") as f:\n",
    "  projects = f.read()\n",
    "\n",
    "name = \"Gabriel\"\n",
    "ai_Name = \"Flynn\""
   ]
  },
  {
   "cell_type": "code",
   "execution_count": 34,
   "id": "fe8ac62f",
   "metadata": {},
   "outputs": [],
   "source": [
    "system_prompt = f\"You are acting as {ai_Name}, You are answering questions on {name}'s website, \\\n",
    "particularly questions related to {name}'s career, background, skills and experience. \\\n",
    "You are responsibility is to represent {name} for interactions on the website as faithfully as possible. \\\n",
    "You are given a summary of {name}'s background and LinkedIn profile as well as projects from Github which you can use to answer questions. \\\n",
    "Be professional and engaging, as if talking to a potential client or future employer who came across the website. \\\n",
    "If you don't know how to answer to any question, use your record_unknown_question tool to record the questions that you couldn't answer. \\\n",
    "If the user is engaging in discussion, try to steer them towards getting in touch via email; ask for their email and record it using your record_user_details\"\n",
    "\n",
    "system_prompt += f\"\\n\\n##Summary: \\n {summary}\\n\\n##LinkedIn Profile:\\n{linkedin}\\n\\n##Projects:\\n{projects}\"\n",
    "system_prompt += f\"With this contact, please chat with the suer, always staying in character.\""
   ]
  },
  {
   "cell_type": "code",
   "execution_count": 39,
   "id": "04bad7a7",
   "metadata": {},
   "outputs": [],
   "source": [
    "def chat(message, history):\n",
    "  messages = [{\"role\": \"system\", \"context\": system_prompt}] + history + [{\"role\": \"user\", \"context\": message}]\n",
    "  done = False\n",
    "  while not done:\n",
    "    response = openai.chat.completions.create(model=\"gpt-4o-mini\", messages=messages, tools=tools)\n",
    "    if response.choices[0].finish_reason==\"tool_calls\":\n",
    "      message = response.choices[0].message\n",
    "      results = handle_tool_calls(message.tool_calls)\n",
    "      messages.append(message)\n",
    "      messages.extend(results)\n",
    "    else:\n",
    "      done = True\n",
    "  return response.choices[0].message.content"
   ]
  },
  {
   "cell_type": "code",
   "execution_count": 40,
   "id": "c595876f",
   "metadata": {},
   "outputs": [
    {
     "name": "stdout",
     "output_type": "stream",
     "text": [
      "* Running on local URL:  http://127.0.0.1:7862\n",
      "* To create a public link, set `share=True` in `launch()`.\n"
     ]
    },
    {
     "data": {
      "text/html": [
       "<div><iframe src=\"http://127.0.0.1:7862/\" width=\"100%\" height=\"500\" allow=\"autoplay; camera; microphone; clipboard-read; clipboard-write;\" frameborder=\"0\" allowfullscreen></iframe></div>"
      ],
      "text/plain": [
       "<IPython.core.display.HTML object>"
      ]
     },
     "metadata": {},
     "output_type": "display_data"
    },
    {
     "data": {
      "text/plain": []
     },
     "execution_count": 40,
     "metadata": {},
     "output_type": "execute_result"
    },
    {
     "name": "stderr",
     "output_type": "stream",
     "text": [
      "Traceback (most recent call last):\n",
      "  File \"c:\\Users\\johng\\Documents\\Flynn\\.venv\\Lib\\site-packages\\gradio\\queueing.py\", line 759, in process_events\n",
      "    response = await route_utils.call_process_api(\n",
      "               ^^^^^^^^^^^^^^^^^^^^^^^^^^^^^^^^^^^\n",
      "  File \"c:\\Users\\johng\\Documents\\Flynn\\.venv\\Lib\\site-packages\\gradio\\route_utils.py\", line 354, in call_process_api\n",
      "    output = await app.get_blocks().process_api(\n",
      "             ^^^^^^^^^^^^^^^^^^^^^^^^^^^^^^^^^^^\n",
      "  File \"c:\\Users\\johng\\Documents\\Flynn\\.venv\\Lib\\site-packages\\gradio\\blocks.py\", line 2116, in process_api\n",
      "    result = await self.call_function(\n",
      "             ^^^^^^^^^^^^^^^^^^^^^^^^^\n",
      "  File \"c:\\Users\\johng\\Documents\\Flynn\\.venv\\Lib\\site-packages\\gradio\\blocks.py\", line 1621, in call_function\n",
      "    prediction = await fn(*processed_input)\n",
      "                 ^^^^^^^^^^^^^^^^^^^^^^^^^^\n",
      "  File \"c:\\Users\\johng\\Documents\\Flynn\\.venv\\Lib\\site-packages\\gradio\\utils.py\", line 882, in async_wrapper\n",
      "    response = await f(*args, **kwargs)\n",
      "               ^^^^^^^^^^^^^^^^^^^^^^^^\n",
      "  File \"c:\\Users\\johng\\Documents\\Flynn\\.venv\\Lib\\site-packages\\gradio\\chat_interface.py\", line 553, in __wrapper\n",
      "    return await submit_fn(*args, **kwargs)\n",
      "           ^^^^^^^^^^^^^^^^^^^^^^^^^^^^^^^^\n",
      "  File \"c:\\Users\\johng\\Documents\\Flynn\\.venv\\Lib\\site-packages\\gradio\\chat_interface.py\", line 943, in _submit_fn\n",
      "    response = await anyio.to_thread.run_sync(\n",
      "               ^^^^^^^^^^^^^^^^^^^^^^^^^^^^^^^\n",
      "  File \"c:\\Users\\johng\\Documents\\Flynn\\.venv\\Lib\\site-packages\\anyio\\to_thread.py\", line 56, in run_sync\n",
      "    return await get_async_backend().run_sync_in_worker_thread(\n",
      "           ^^^^^^^^^^^^^^^^^^^^^^^^^^^^^^^^^^^^^^^^^^^^^^^^^^^^\n",
      "  File \"c:\\Users\\johng\\Documents\\Flynn\\.venv\\Lib\\site-packages\\anyio\\_backends\\_asyncio.py\", line 2485, in run_sync_in_worker_thread\n",
      "    return await future\n",
      "           ^^^^^^^^^^^^\n",
      "  File \"c:\\Users\\johng\\Documents\\Flynn\\.venv\\Lib\\site-packages\\anyio\\_backends\\_asyncio.py\", line 976, in run\n",
      "    result = context.run(func, *args)\n",
      "             ^^^^^^^^^^^^^^^^^^^^^^^^\n",
      "  File \"C:\\Users\\johng\\AppData\\Local\\Temp\\ipykernel_1640\\708212017.py\", line 5, in chat\n",
      "    response = openai.chat.completions.create(model=\"gpt-4o-mini\", messages=messages, tools=tools)\n",
      "               ^^^^^^^^^^^^^^^^^^^^^^^^^^^^^^^^^^^^^^^^^^^^^^^^^^^^^^^^^^^^^^^^^^^^^^^^^^^^^^^^^^^\n",
      "  File \"c:\\Users\\johng\\Documents\\Flynn\\.venv\\Lib\\site-packages\\openai\\_utils\\_utils.py\", line 286, in wrapper\n",
      "    return func(*args, **kwargs)\n",
      "           ^^^^^^^^^^^^^^^^^^^^^\n",
      "  File \"c:\\Users\\johng\\Documents\\Flynn\\.venv\\Lib\\site-packages\\openai\\resources\\chat\\completions\\completions.py\", line 1156, in create\n",
      "    return self._post(\n",
      "           ^^^^^^^^^^^\n",
      "  File \"c:\\Users\\johng\\Documents\\Flynn\\.venv\\Lib\\site-packages\\openai\\_base_client.py\", line 1259, in post\n",
      "    return cast(ResponseT, self.request(cast_to, opts, stream=stream, stream_cls=stream_cls))\n",
      "                           ^^^^^^^^^^^^^^^^^^^^^^^^^^^^^^^^^^^^^^^^^^^^^^^^^^^^^^^^^^^^^^^^^\n",
      "  File \"c:\\Users\\johng\\Documents\\Flynn\\.venv\\Lib\\site-packages\\openai\\_base_client.py\", line 968, in request\n",
      "    request = self._build_request(options, retries_taken=retries_taken)\n",
      "              ^^^^^^^^^^^^^^^^^^^^^^^^^^^^^^^^^^^^^^^^^^^^^^^^^^^^^^^^^\n",
      "  File \"c:\\Users\\johng\\Documents\\Flynn\\.venv\\Lib\\site-packages\\openai\\_base_client.py\", line 547, in _build_request\n",
      "    return self._client.build_request(  # pyright: ignore[reportUnknownMemberType]\n",
      "           ^^^^^^^^^^^^^^^^^^^^^^^^^^^^^^^^^^^^^^^^^^^^^^^^^^^^^^^^^^^^^^^^^^^^^^^\n",
      "  File \"c:\\Users\\johng\\Documents\\Flynn\\.venv\\Lib\\site-packages\\httpx\\_client.py\", line 378, in build_request\n",
      "    return Request(\n",
      "           ^^^^^^^^\n",
      "  File \"c:\\Users\\johng\\Documents\\Flynn\\.venv\\Lib\\site-packages\\httpx\\_models.py\", line 408, in __init__\n",
      "    headers, stream = encode_request(\n",
      "                      ^^^^^^^^^^^^^^^\n",
      "  File \"c:\\Users\\johng\\Documents\\Flynn\\.venv\\Lib\\site-packages\\httpx\\_content.py\", line 216, in encode_request\n",
      "    return encode_json(json)\n",
      "           ^^^^^^^^^^^^^^^^^\n",
      "  File \"c:\\Users\\johng\\Documents\\Flynn\\.venv\\Lib\\site-packages\\httpx\\_content.py\", line 177, in encode_json\n",
      "    body = json_dumps(\n",
      "           ^^^^^^^^^^^\n",
      "  File \"C:\\Python312\\Lib\\json\\__init__.py\", line 238, in dumps\n",
      "    **kw).encode(obj)\n",
      "          ^^^^^^^^^^^\n",
      "  File \"C:\\Python312\\Lib\\json\\encoder.py\", line 200, in encode\n",
      "    chunks = self.iterencode(o, _one_shot=True)\n",
      "             ^^^^^^^^^^^^^^^^^^^^^^^^^^^^^^^^^^\n",
      "  File \"C:\\Python312\\Lib\\json\\encoder.py\", line 258, in iterencode\n",
      "    return _iterencode(o, 0)\n",
      "           ^^^^^^^^^^^^^^^^^\n",
      "  File \"C:\\Python312\\Lib\\json\\encoder.py\", line 180, in default\n",
      "    raise TypeError(f'Object of type {o.__class__.__name__} '\n",
      "TypeError: Object of type set is not JSON serializable\n"
     ]
    }
   ],
   "source": [
    "gr.ChatInterface(chat, type=\"messages\").launch()"
   ]
  }
 ],
 "metadata": {
  "kernelspec": {
   "display_name": ".venv",
   "language": "python",
   "name": "python3"
  },
  "language_info": {
   "codemirror_mode": {
    "name": "ipython",
    "version": 3
   },
   "file_extension": ".py",
   "mimetype": "text/x-python",
   "name": "python",
   "nbconvert_exporter": "python",
   "pygments_lexer": "ipython3",
   "version": "3.12.6"
  }
 },
 "nbformat": 4,
 "nbformat_minor": 5
}
